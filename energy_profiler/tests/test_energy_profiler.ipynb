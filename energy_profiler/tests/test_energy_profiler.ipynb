{
 "cells": [
  {
   "cell_type": "code",
   "execution_count": null,
   "metadata": {},
   "outputs": [],
   "source": [
    "import os\n",
    "import sys\n",
    "\n",
    "sys.path.append('../../txf_design-space/')\n",
    "sys.path.append('../../txf_design-space/flexibert')\n",
    "sys.path.append('../../boshnas/boshnas/')\n",
    "sys.path.append('../utils')\n",
    "sys.path.append('../')\n",
    "\n",
    "import yaml\n",
    "import json\n",
    "import time\n",
    "import torch\n",
    "import shlex\n",
    "import shutil\n",
    "import argparse\n",
    "import subprocess\n",
    "import collections\n",
    "import numpy as np\n",
    "from tqdm import tqdm\n",
    "\n",
    "from embeddings.utils import graph_util, print_util as pu\n",
    "\n",
    "sys.path.append('../../txf_design-space/transformers/src/transformers')\n",
    "import embedding_util, energy_util\n",
    "\n",
    "from boshnas import BOSHNAS\n",
    "from acq import gosh_acq as acq\n",
    "\n",
    "from transformers import BertModel\n",
    "from transformers import RobertaTokenizer, RobertaModel\n",
    "from transformers.models.bert.configuration_bert import BertConfig\n",
    "from transformers.models.bert.modeling_modular_bert import BertModelModular, BertForMaskedLMModular, BertForSequenceClassificationModular\n",
    "\n",
    "import warnings\n",
    "warnings.filterwarnings(\"ignore\")\n",
    "\n",
    "from run_energy_profiler import *\n",
    "\n",
    "from sklearn.gaussian_process import GaussianProcessRegressor\n",
    "from sklearn.gaussian_process.kernels import DotProduct, WhiteKernel\n",
    "from sklearn.tree import DecisionTreeRegressor\n",
    "from sklearn.ensemble import AdaBoostRegressor\n",
    "from sklearn.metrics import mean_squared_error"
   ]
  },
  {
   "cell_type": "code",
   "execution_count": null,
   "metadata": {},
   "outputs": [],
   "source": [
    "# Load design space\n",
    "design_space = yaml.safe_load(open('../design_space/design_space.yaml'))\n",
    "\n",
    "# Load dataset\n",
    "dataset = json.load(open('../dataset/dataset_test.json'))\n",
    "for key in dataset.keys():\n",
    "    dataset[key]['embedding'] = eval(dataset[key]['embedding'])\n",
    "    \n",
    "X, latency, energy, peak_power = convert_to_tabular(dataset)\n",
    "max_latency, max_energy, max_peak_power = np.amax(latency), np.amax(energy), np.amax(peak_power)\n",
    "\n",
    "mean_X = np.mean(X, axis=0)\n",
    "\n",
    "# Increase maximum values\n",
    "max_latency, max_energy, max_peak_power = 1.2 * max_latency, 1.2 * max_energy, 1.2 * max_peak_power\n",
    "print(f'Max latency: {max_latency : 0.3f}s/seq. Max energy: {max_energy : 0.3f}J/seq. Max peak power: {max_peak_power : 0.3f}W')\n",
    "    \n",
    "latency, energy, peak_power = latency/max_latency, energy/max_energy, peak_power/max_peak_power\n",
    "    \n",
    "# Get the embedding for model with hash in the first entry\n",
    "model_hash = list(dataset.keys())[0]\n",
    "print(np.array(dataset[model_hash]['embedding'])) \n",
    "\n",
    "surrogate_models = \\\n",
    "    init_surrogate_models('boshnas', dataset, design_space, '../dataset/surrogate_models/', True)\n",
    "\n",
    "X_ds = convert_to_tabular({model_hash: dataset[model_hash]}, only_embeddings=True)\n",
    "\n",
    "# We see a non-zero epistemic uncertainty\n",
    "get_predictions(surrogate_models, X_ds-mean_X)"
   ]
  },
  {
   "cell_type": "code",
   "execution_count": null,
   "metadata": {},
   "outputs": [],
   "source": [
    "get_predictions(surrogate_models, (X-mean_X)/max_X)"
   ]
  },
  {
   "cell_type": "code",
   "execution_count": null,
   "metadata": {},
   "outputs": [],
   "source": [
    "# Train surrogate models on the normalized dataset\n",
    "train_surrogate_models(surrogate_models, (X-mean_X)/max_X, latency, energy, peak_power)\n",
    "\n",
    "# We see a non-zero epistemic uncertainty\n",
    "get_predictions(surrogate_models, (X-mean_X)/max_X)"
   ]
  },
  {
   "cell_type": "code",
   "execution_count": null,
   "metadata": {},
   "outputs": [],
   "source": [
    "latency, energy, peak_power"
   ]
  },
  {
   "cell_type": "code",
   "execution_count": null,
   "metadata": {},
   "outputs": [],
   "source": [
    "# Get random samples of the entire dataset to obtain maximum uncertainty\n",
    "random_samples = embedding_util.get_samples(design_space, num_samples=128, sampling_method='Random', debug=True)\n",
    "X_ds = convert_to_tabular(random_samples, only_embeddings=True)\n",
    "\n",
    "# get_predictions(surrogate_models, (X_ds-mean_X)/max_X)"
   ]
  },
  {
   "cell_type": "code",
   "execution_count": null,
   "metadata": {},
   "outputs": [],
   "source": [
    "len(set(random_samples.keys()).difference(set(dataset.keys())))"
   ]
  },
  {
   "cell_type": "code",
   "execution_count": null,
   "metadata": {},
   "outputs": [],
   "source": [
    "# Test GP\n",
    "kernel = DotProduct() + WhiteKernel()\n",
    "gpr = GaussianProcessRegressor(random_state=0)\n",
    "gpr.fit(X, latency)\n",
    "\n",
    "print(gpr.predict(X, return_std=True))\n",
    "gpr.predict(X_ds, return_std=True)"
   ]
  },
  {
   "cell_type": "code",
   "execution_count": 15,
   "metadata": {},
   "outputs": [
    {
     "name": "stdout",
     "output_type": "stream",
     "text": [
      "MSE for GP:\t 0.19556\n",
      "MSE for DT:\t 0.00666\n",
      "MSE for BDT:\t 0.00099\n",
      "MSE for BOSHNAS:\t 0.19556\n"
     ]
    }
   ],
   "source": [
    "# Test different regressors on the dataset\n",
    "regressors = ['GP', 'DT', 'BDT', 'BOSHNAS']\n",
    "\n",
    "X, latency, energy, peak_power = X[:2048, :], latency[:2048], energy[:2048], peak_power[:2048]\n",
    "X_train, latency_train = X[:16, :], latency[:16]\n",
    "X_test, latency_test = X[16:20, :], latency[16:20]\n",
    "\n",
    "for regressor in regressors:\n",
    "    if regressor == 'BOSHNAS':\n",
    "        embedding_dim = len(dataset[list(dataset.keys())[0]]['embedding'])\n",
    "        embedding_bounds = embedding_util.get_embedding_bounds(design_space, 'all')\n",
    "        embedding_bounds = (np.array([bound[0] for bound in embedding_bounds]), np.array([bound[1] for bound in embedding_bounds]))\n",
    "\n",
    "        latency_model = BOSHNAS(input_dim=embedding_dim,\n",
    "            bounds=embedding_bounds,\n",
    "            trust_region=False,\n",
    "            second_order=True,\n",
    "            parallel=True,\n",
    "            model_aleatoric=False,\n",
    "            save_path='./surrogate_models_test',\n",
    "            pretrained=False)\n",
    "        \n",
    "        latency_model.train(X_train, latency_train)\n",
    "        latency_predictions = latency_model.predict(X_test)\n",
    "        latency_predictions = np.array([pred[0].item() for pred in latency_predictions])\n",
    "    elif regressor == 'GP':\n",
    "        gpr = GaussianProcessRegressor(random_state=0)\n",
    "        gpr.fit(X_train, latency_train)\n",
    "        latency_predictions = gpr.predict(X_test)\n",
    "    elif regressor == 'DT':\n",
    "        dtr = DecisionTreeRegressor(random_state=0)\n",
    "        dtr.fit(X_train, latency_train)\n",
    "        latency_predictions = dtr.predict(X_test)\n",
    "    elif regressor == 'BDT':\n",
    "        bdtr = AdaBoostRegressor(DecisionTreeRegressor(random_state=0), n_estimators=500)\n",
    "        bdtr.fit(X_train, latency_train)\n",
    "        latency_predictions = bdtr.predict(X_test)\n",
    "    print(f'MSE for {regressor}:\\t{mean_squared_error(latency_test, latency_predictions): 0.5f}')"
   ]
  },
  {
   "cell_type": "code",
   "execution_count": 16,
   "metadata": {},
   "outputs": [
    {
     "name": "stdout",
     "output_type": "stream",
     "text": [
      "MSE for BDT with 5 trees:\t 0.00378\n",
      "MSE for BDT with 10 trees:\t 0.00202\n",
      "MSE for BDT with 50 trees:\t 0.00264\n",
      "MSE for BDT with 100 trees:\t 0.00249\n",
      "MSE for BDT with 200 trees:\t 0.00085\n",
      "MSE for BDT with 300 trees:\t 0.00099\n",
      "MSE for BDT with 500 trees:\t 0.00070\n",
      "MSE for BDT with 1000 trees:\t 0.00099\n"
     ]
    }
   ],
   "source": [
    "# Grid search validation of n_estimators for BDT\n",
    "n_estimators_list = [5, 10, 50, 100, 200, 300, 500, 1000]\n",
    "\n",
    "for n_estimators in n_estimators_list:\n",
    "    bdtr = AdaBoostRegressor(DecisionTreeRegressor(random_state=0), n_estimators=n_estimators)\n",
    "    bdtr.fit(X_train, latency_train)\n",
    "    latency_predictions = bdtr.predict(X_test)\n",
    "    print(f'MSE for BDT with {n_estimators} trees:\\t{mean_squared_error(latency_test, latency_predictions): 0.5f}')"
   ]
  },
  {
   "cell_type": "code",
   "execution_count": null,
   "metadata": {},
   "outputs": [],
   "source": [
    "sample_sizes = [16, 32, 64, 128, 256, 512, 1024, 2048]\n",
    "regressors = ['GP', 'BDT', 'BOSHNAS']\n",
    "max_uncertainties = {'GP': [], 'BDT': [], 'BOSHNAS': []}\n",
    "min_uncertainties = {'GP': [], 'BDT': [], 'BOSHNAS': []}\n",
    "mse = {'GP': [], 'BDT': [], 'BOSHNAS': []}\n",
    "\n",
    "for sample_size in sample_sizes:\n",
    "    X_train_small, latency_train_small = X[:sample_size, :], latency[:sample_size]\n",
    "    X_test_small, latency_test_small = X[sample_size:int(sample_size+128), :], latency[sample_size:int(sample_size+128)]\n",
    "\n",
    "    for regressor in regressors:\n",
    "        if regressor == 'GP':\n",
    "            gpr = GaussianProcessRegressor(random_state=0)\n",
    "            gpr.fit(X_train_small, latency_train_small)\n",
    "            latency_predictions, uncertainty = gpr.predict(X_test_small, return_std=True)\n",
    "        elif regressor == 'BOSHNAS':\n",
    "            embedding_dim = len(dataset[list(dataset.keys())[0]]['embedding'])\n",
    "            embedding_bounds = embedding_util.get_embedding_bounds(design_space, 'all')\n",
    "            embedding_bounds = (np.array([bound[0] for bound in embedding_bounds]), np.array([bound[1] for bound in embedding_bounds]))\n",
    "\n",
    "            latency_model = BOSHNAS(input_dim=embedding_dim,\n",
    "                bounds=embedding_bounds,\n",
    "                trust_region=False,\n",
    "                second_order=True,\n",
    "                parallel=True,\n",
    "                model_aleatoric=False,\n",
    "                save_path='./surrogate_models_test',\n",
    "                pretrained=False)\n",
    "\n",
    "            latency_model.train(X_train_small, latency_train_small)\n",
    "            latency_predictions_all = latency_model.predict(X_test_small)\n",
    "            latency_predictions = np.array([pred[0].item() for pred in latency_predictions_all])\n",
    "            uncertainty = np.array([pred[1][0].item() for pred in latency_predictions_all])\n",
    "        elif regressor == 'BDT':\n",
    "            bdtr = AdaBoostRegressor(DecisionTreeRegressor(random_state=0), n_estimators=500)\n",
    "            bdtr.fit(X_train_small, latency_train_small)\n",
    "\n",
    "            dt_predictions = []\n",
    "            for estimator in bdtr.estimators_:\n",
    "                pred = estimator.predict(X_test_small)\n",
    "                dt_predictions.append(pred)\n",
    "            latency_predictions, uncertainty = bdtr.predict(X_test_small), np.std(np.array(dt_predictions), axis=0)\n",
    "        \n",
    "        max_uncertainties[regressor].append(np.amax(uncertainty))\n",
    "        min_uncertainties[regressor].append(np.amin(uncertainty))\n",
    "        mse[regressor].append(mean_squared_error(latency_test_small, latency_predictions))"
   ]
  },
  {
   "cell_type": "code",
   "execution_count": 14,
   "metadata": {},
   "outputs": [
    {
     "data": {
      "image/png": "[encoded data removed]",
      "text/plain": [
       "<Figure size 432x288 with 1 Axes>"
      ]
     },
     "metadata": {
      "needs_background": "light"
     },
     "output_type": "display_data"
    },
    {
     "data": {
      "image/png": "[encoded data removed]",
      "text/plain": [
       "<Figure size 432x288 with 1 Axes>"
      ]
     },
     "metadata": {
      "needs_background": "light"
     },
     "output_type": "display_data"
    },
    {
     "data": {
      "image/png": "[encoded data removed]",
      "text/plain": [
       "<Figure size 432x288 with 1 Axes>"
      ]
     },
     "metadata": {
      "needs_background": "light"
     },
     "output_type": "display_data"
    }
   ],
   "source": [
    "for regressor in regressors:\n",
    "    plt.plot(sample_sizes, min_uncertainties[regressor], label=regressor)\n",
    "plt.legend()\n",
    "plt.xlabel('Sample sizes')\n",
    "plt.xscale('log', basex=2)\n",
    "plt.xticks(sample_sizes)\n",
    "plt.ylabel('Min. Uncertainty')\n",
    "plt.show()\n",
    "\n",
    "for regressor in regressors:\n",
    "    plt.plot(sample_sizes, max_uncertainties[regressor], label=regressor)\n",
    "plt.legend()\n",
    "plt.xlabel('Sample sizes')\n",
    "plt.xscale('log', basex=2)\n",
    "plt.xticks(sample_sizes)\n",
    "plt.ylabel('Max. Uncertainty')\n",
    "plt.show()\n",
    "\n",
    "for regressor in regressors:\n",
    "    plt.plot(sample_sizes, mse[regressor], label=regressor)\n",
    "plt.legend()\n",
    "plt.xlabel('Sample sizes')\n",
    "plt.xscale('log', basex=2)\n",
    "plt.yscale('log')\n",
    "plt.xticks(sample_sizes)\n",
    "plt.ylabel('Test MSE')\n",
    "plt.show()"
   ]
  }
 ],
 "metadata": {
  "kernelspec": {
   "display_name": "txf_design-space [~/.conda/envs/txf_design-space/]",
   "language": "python",
   "name": "conda_txf_design-space"
  },
  "language_info": {
   "codemirror_mode": {
    "name": "ipython",
    "version": 3
   },
   "file_extension": ".py",
   "mimetype": "text/x-python",
   "name": "python",
   "nbconvert_exporter": "python",
   "pygments_lexer": "ipython3",
   "version": "3.8.10"
  }
 },
 "nbformat": 4,
 "nbformat_minor": 4
}
